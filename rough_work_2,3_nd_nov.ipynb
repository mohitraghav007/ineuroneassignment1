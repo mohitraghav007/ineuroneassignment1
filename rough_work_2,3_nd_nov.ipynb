{
  "nbformat": 4,
  "nbformat_minor": 0,
  "metadata": {
    "colab": {
      "provenance": [],
      "authorship_tag": "ABX9TyNkX9kACokvyM5xsKqpiVAz",
      "include_colab_link": true
    },
    "kernelspec": {
      "name": "python3",
      "display_name": "Python 3"
    },
    "language_info": {
      "name": "python"
    }
  },
  "cells": [
    {
      "cell_type": "markdown",
      "metadata": {
        "id": "view-in-github",
        "colab_type": "text"
      },
      "source": [
        "<a href=\"https://colab.research.google.com/github/mohitraghav007/ineuroneassignment1/blob/main/rough_work_2%2C3_nd_nov.ipynb\" target=\"_parent\"><img src=\"https://colab.research.google.com/assets/colab-badge.svg\" alt=\"Open In Colab\"/></a>"
      ]
    },
    {
      "cell_type": "markdown",
      "source": [
        "# 1. ***Updating list element at specific index***\n",
        "\n"
      ],
      "metadata": {
        "id": "XuWQmNUbh6wM"
      }
    },
    {
      "cell_type": "code",
      "execution_count": null,
      "metadata": {
        "id": "C50FauM5hXq_"
      },
      "outputs": [],
      "source": [
        "list  = [1,2,3,4,5.6,6.8,9.6,'mohit','raghav','rahul',(1+2j)]\n"
      ]
    },
    {
      "cell_type": "code",
      "source": [
        "\n",
        "len(list)"
      ],
      "metadata": {
        "colab": {
          "base_uri": "https://localhost:8080/"
        },
        "id": "1zDKMB9Xisuy",
        "outputId": "037ddefe-a030-44a3-f008-fde5dc7630df"
      },
      "execution_count": null,
      "outputs": [
        {
          "output_type": "execute_result",
          "data": {
            "text/plain": [
              "11"
            ]
          },
          "metadata": {},
          "execution_count": 5
        }
      ]
    },
    {
      "cell_type": "code",
      "source": [
        "list[6]"
      ],
      "metadata": {
        "colab": {
          "base_uri": "https://localhost:8080/"
        },
        "id": "3IOrN2XZjJq6",
        "outputId": "ec2112dc-c07d-4c48-c123-b1489fec363c"
      },
      "execution_count": null,
      "outputs": [
        {
          "output_type": "execute_result",
          "data": {
            "text/plain": [
              "9.6"
            ]
          },
          "metadata": {},
          "execution_count": 6
        }
      ]
    },
    {
      "cell_type": "code",
      "source": [
        "\n",
        "list[6] = 10"
      ],
      "metadata": {
        "id": "iTnQrWOHjMjS"
      },
      "execution_count": null,
      "outputs": []
    },
    {
      "cell_type": "code",
      "source": [
        "list"
      ],
      "metadata": {
        "colab": {
          "base_uri": "https://localhost:8080/"
        },
        "id": "u6_ycOd4jYt2",
        "outputId": "13d4ddc1-fbe7-4e85-909c-f4e56ae0c047"
      },
      "execution_count": null,
      "outputs": [
        {
          "output_type": "execute_result",
          "data": {
            "text/plain": [
              "[1, 2, 3, 4, 5.6, 6.8, 10, 'mohit', 'raghav', 'rahul', (1+2j)]"
            ]
          },
          "metadata": {},
          "execution_count": 8
        }
      ]
    },
    {
      "cell_type": "code",
      "source": [
        "list[6]"
      ],
      "metadata": {
        "colab": {
          "base_uri": "https://localhost:8080/"
        },
        "id": "YzrisgjmjbRJ",
        "outputId": "ad195152-4e02-4830-d684-ced6b5a6d7eb"
      },
      "execution_count": null,
      "outputs": [
        {
          "output_type": "execute_result",
          "data": {
            "text/plain": [
              "10"
            ]
          },
          "metadata": {},
          "execution_count": 9
        }
      ]
    },
    {
      "cell_type": "markdown",
      "source": [
        "# We can also use \"+\" to concatenate lists, just like we did for Strings."
      ],
      "metadata": {
        "id": "htvJhv3TjpDx"
      }
    },
    {
      "cell_type": "code",
      "source": [
        "my_list = list + ['new item ',6]"
      ],
      "metadata": {
        "id": "klGS4tlmjeCz"
      },
      "execution_count": null,
      "outputs": []
    },
    {
      "cell_type": "code",
      "source": [
        "my_list"
      ],
      "metadata": {
        "colab": {
          "base_uri": "https://localhost:8080/"
        },
        "id": "12HVFzOkj5jW",
        "outputId": "020c2770-fb7e-4210-fafd-8ea29e5a9f6c"
      },
      "execution_count": null,
      "outputs": [
        {
          "output_type": "execute_result",
          "data": {
            "text/plain": [
              "[1, 2, 3, 4, 5.6, 6.8, 10, 'mohit', 'raghav', 'rahul', (1+2j), 'new item ', 6]"
            ]
          },
          "metadata": {},
          "execution_count": 13
        }
      ]
    },
    {
      "cell_type": "code",
      "source": [
        "my_list*2"
      ],
      "metadata": {
        "colab": {
          "base_uri": "https://localhost:8080/"
        },
        "id": "wfCHTpwnkrZH",
        "outputId": "f788ac43-e21b-4f9e-be9c-38b4869856ef"
      },
      "execution_count": null,
      "outputs": [
        {
          "output_type": "execute_result",
          "data": {
            "text/plain": [
              "[1,\n",
              " 2,\n",
              " 3,\n",
              " 4,\n",
              " 5.6,\n",
              " 6.8,\n",
              " 10,\n",
              " 'mohit',\n",
              " 'raghav',\n",
              " 'rahul',\n",
              " (1+2j),\n",
              " 'new item ',\n",
              " 6,\n",
              " 1,\n",
              " 2,\n",
              " 3,\n",
              " 4,\n",
              " 5.6,\n",
              " 6.8,\n",
              " 10,\n",
              " 'mohit',\n",
              " 'raghav',\n",
              " 'rahul',\n",
              " (1+2j),\n",
              " 'new item ',\n",
              " 6]"
            ]
          },
          "metadata": {},
          "execution_count": 14
        }
      ]
    },
    {
      "cell_type": "code",
      "source": [
        "my_list*(-1)"
      ],
      "metadata": {
        "colab": {
          "base_uri": "https://localhost:8080/"
        },
        "id": "gzi8lYKHlTEx",
        "outputId": "a4e9f1d9-b2d2-4cb0-ea4a-11db454c98fb"
      },
      "execution_count": null,
      "outputs": [
        {
          "output_type": "execute_result",
          "data": {
            "text/plain": [
              "[]"
            ]
          },
          "metadata": {},
          "execution_count": 15
        }
      ]
    },
    {
      "cell_type": "code",
      "source": [
        "my_purchase_list = []"
      ],
      "metadata": {
        "id": "cZTCRtlAper4"
      },
      "execution_count": null,
      "outputs": []
    },
    {
      "cell_type": "code",
      "source": [
        "N = int(input(\"how many items do you want: \"))\n",
        "for i in range(0,N):\n",
        "  user_input = input(\"enter the item that you want to purchase:  \")\n",
        "  my_purchase_list.append(user_input)\n",
        "print(my_purchase_list)  \n",
        "  "
      ],
      "metadata": {
        "colab": {
          "base_uri": "https://localhost:8080/"
        },
        "id": "qRTURndwl_Up",
        "outputId": "5c01d22c-3799-4727-aed6-808695240f41"
      },
      "execution_count": null,
      "outputs": [
        {
          "output_type": "stream",
          "name": "stdout",
          "text": [
            "how many items do you want: 5\n",
            "enter the item that you want to purchase:  shirt\n",
            "enter the item that you want to purchase:  ball\n",
            "enter the item that you want to purchase:  box\n",
            "enter the item that you want to purchase:  toothbrush\n",
            "enter the item that you want to purchase:  creem\n",
            "['shirt', 'ball', 'box', 'toothbrush', 'creem']\n"
          ]
        }
      ]
    },
    {
      "cell_type": "code",
      "source": [
        "my_list = []\n",
        "N = int(input(f\"how many items do you want: \"))\n",
        "i = 0\n",
        "while i<N:\n",
        "  purchase_items = input(f\"enter the item that you want to purchase: \")\n",
        "  i = i + 1\n",
        "  my_list.append(purchase_items)\n",
        "  print(my_list)"
      ],
      "metadata": {
        "colab": {
          "base_uri": "https://localhost:8080/"
        },
        "id": "WabnJxsXo9g7",
        "outputId": "5d048ff3-53a4-4f2b-bc86-cca43d7d2be1"
      },
      "execution_count": null,
      "outputs": [
        {
          "output_type": "stream",
          "name": "stdout",
          "text": [
            "how many items do you want: 4\n",
            "enter the item that you want to purchase: shirt\n",
            "['shirt']\n",
            "enter the item that you want to purchase: bag\n",
            "['shirt', 'bag']\n",
            "enter the item that you want to purchase: ball\n",
            "['shirt', 'bag', 'ball']\n",
            "enter the item that you want to purchase: knife\n",
            "['shirt', 'bag', 'ball', 'knife']\n"
          ]
        }
      ]
    },
    {
      "cell_type": "code",
      "source": [
        "list_2 = ['pen', 'bulb', 'knife', 'Phone cover']\n",
        "if 'mobile' in list_2:\n",
        "  print(\"yes\")\n",
        "else:\n",
        "  print(\" 'no', adding into the list \")\n",
        "  list_2 = list_2 + ['mobile']  "
      ],
      "metadata": {
        "colab": {
          "base_uri": "https://localhost:8080/"
        },
        "id": "oPxh4ZsV9jr8",
        "outputId": "4bbd903b-4f5b-4433-c1c7-db08b5a7d493"
      },
      "execution_count": null,
      "outputs": [
        {
          "output_type": "stream",
          "name": "stdout",
          "text": [
            " 'no', adding into the list \n"
          ]
        }
      ]
    },
    {
      "cell_type": "code",
      "source": [
        "list_2\n"
      ],
      "metadata": {
        "colab": {
          "base_uri": "https://localhost:8080/"
        },
        "id": "YYBq7X6UCb2r",
        "outputId": "a6e93244-6ec4-4fda-8ba7-6fa4eace9254"
      },
      "execution_count": null,
      "outputs": [
        {
          "output_type": "execute_result",
          "data": {
            "text/plain": [
              "['pen', 'bulb', 'knife', 'Phone cover', 'mobile']"
            ]
          },
          "metadata": {},
          "execution_count": 32
        }
      ]
    },
    {
      "cell_type": "code",
      "source": [
        "if 'shirt' not in list_2:\n",
        "  print(' add this one ?')\n",
        "  list_2 = list_2 + ['shirt']\n",
        "list_2"
      ],
      "metadata": {
        "colab": {
          "base_uri": "https://localhost:8080/"
        },
        "id": "Llop8ELDCiZ3",
        "outputId": "bd812e1f-4c31-4ca0-d6d9-bfaa53c6ad63"
      },
      "execution_count": null,
      "outputs": [
        {
          "output_type": "execute_result",
          "data": {
            "text/plain": [
              "['pen', 'bulb', 'knife', 'Phone cover', 'mobile', 'shirt']"
            ]
          },
          "metadata": {},
          "execution_count": 36
        }
      ]
    },
    {
      "cell_type": "code",
      "source": [
        "string_example = [\"bhaveen\", \"abhishek\", \"dew\", \"chalie\", \"Doctor\"]\n",
        "max(string_example)"
      ],
      "metadata": {
        "colab": {
          "base_uri": "https://localhost:8080/",
          "height": 35
        },
        "id": "-ylLgmZjDEV2",
        "outputId": "6acd9d8e-9f9f-4b03-bad3-0c36eb501de2"
      },
      "execution_count": null,
      "outputs": [
        {
          "output_type": "execute_result",
          "data": {
            "text/plain": [
              "'dew'"
            ],
            "application/vnd.google.colaboratory.intrinsic+json": {
              "type": "string"
            }
          },
          "metadata": {},
          "execution_count": 5
        }
      ]
    },
    {
      "cell_type": "code",
      "source": [
        "min(string_example)"
      ],
      "metadata": {
        "colab": {
          "base_uri": "https://localhost:8080/",
          "height": 35
        },
        "id": "GNR_2rHoFWTa",
        "outputId": "197d41b5-0e80-4128-c5d4-bf472cb096d7"
      },
      "execution_count": null,
      "outputs": [
        {
          "output_type": "execute_result",
          "data": {
            "text/plain": [
              "'Doctor'"
            ],
            "application/vnd.google.colaboratory.intrinsic+json": {
              "type": "string"
            }
          },
          "metadata": {},
          "execution_count": 6
        }
      ]
    },
    {
      "cell_type": "code",
      "source": [
        "# # print the name with highest no of character -\n"
      ],
      "metadata": {
        "id": "Rqtd_CEUFiXG"
      },
      "execution_count": null,
      "outputs": []
    },
    {
      "cell_type": "code",
      "source": [
        "string_example"
      ],
      "metadata": {
        "colab": {
          "base_uri": "https://localhost:8080/"
        },
        "id": "f5VSudt-HpYs",
        "outputId": "2767176c-fd43-4c32-e130-6181afcacfd6"
      },
      "execution_count": null,
      "outputs": [
        {
          "output_type": "execute_result",
          "data": {
            "text/plain": [
              "['bhaveen', 'abhishek', 'dew', 'chalie', 'Doctor']"
            ]
          },
          "metadata": {},
          "execution_count": 7
        }
      ]
    },
    {
      "cell_type": "code",
      "source": [
        "max_len = 0\n",
        "result = ' '\n",
        "for i in string_example:\n",
        "  print(i,len(i))\n",
        "  if len(i) > max_len:\n",
        "    max_len = len(i)\n",
        "    result = i\n",
        "print(f\"output: max_len: {max_len} name: {result}\")    "
      ],
      "metadata": {
        "colab": {
          "base_uri": "https://localhost:8080/"
        },
        "id": "-y_uoaZVFrnP",
        "outputId": "5d4a7a96-292c-4b21-915a-09b37d406c2f"
      },
      "execution_count": null,
      "outputs": [
        {
          "output_type": "stream",
          "name": "stdout",
          "text": [
            "bhaveen 7\n",
            "abhishek 8\n",
            "dew 3\n",
            "chalie 6\n",
            "Doctor 6\n",
            "output: max_len: 8 name: abhishek\n"
          ]
        }
      ]
    },
    {
      "cell_type": "code",
      "source": [
        "string_example"
      ],
      "metadata": {
        "colab": {
          "base_uri": "https://localhost:8080/"
        },
        "id": "4jLLObQZqJN5",
        "outputId": "9c323ea3-6a06-4774-d829-63523a2614c6"
      },
      "execution_count": null,
      "outputs": [
        {
          "output_type": "execute_result",
          "data": {
            "text/plain": [
              "['bhaveen', 'abhishek', 'dew', 'chalie', 'Doctor']"
            ]
          },
          "metadata": {},
          "execution_count": 9
        }
      ]
    },
    {
      "cell_type": "code",
      "source": [
        "max_len1 = 0\n",
        "result = ' '\n"
      ],
      "metadata": {
        "id": "xXsVHOiRvoh8"
      },
      "execution_count": null,
      "outputs": []
    },
    {
      "cell_type": "code",
      "source": [
        "for i in string_example:\n",
        "  print(i,len(i)) \n",
        "  if len(i)>max_len1:\n",
        "    max_len1 = len(i)\n",
        "    result = i\n",
        "print(f\"output:max_len:{max_len1},name:{result}\")  \n",
        "  \n",
        "  \n",
        " \n"
      ],
      "metadata": {
        "colab": {
          "base_uri": "https://localhost:8080/",
          "height": 235
        },
        "id": "i5idaDt5p_-o",
        "outputId": "37593346-7c62-4313-ac09-b2048234fd93"
      },
      "execution_count": null,
      "outputs": [
        {
          "output_type": "error",
          "ename": "TypeError",
          "evalue": "ignored",
          "traceback": [
            "\u001b[0;31m---------------------------------------------------------------------------\u001b[0m",
            "\u001b[0;31mTypeError\u001b[0m                                 Traceback (most recent call last)",
            "\u001b[0;32m<ipython-input-45-b53beb8314f7>\u001b[0m in \u001b[0;36m<module>\u001b[0;34m\u001b[0m\n\u001b[1;32m      1\u001b[0m \u001b[0;32mfor\u001b[0m \u001b[0mi\u001b[0m \u001b[0;32min\u001b[0m \u001b[0mstring_example\u001b[0m\u001b[0;34m:\u001b[0m\u001b[0;34m\u001b[0m\u001b[0;34m\u001b[0m\u001b[0m\n\u001b[0;32m----> 2\u001b[0;31m   \u001b[0mprint\u001b[0m\u001b[0;34m(\u001b[0m\u001b[0mi\u001b[0m\u001b[0;34m,\u001b[0m\u001b[0mlen\u001b[0m\u001b[0;34m(\u001b[0m\u001b[0mi\u001b[0m\u001b[0;34m)\u001b[0m\u001b[0;34m)\u001b[0m\u001b[0;34m\u001b[0m\u001b[0;34m\u001b[0m\u001b[0m\n\u001b[0m\u001b[1;32m      3\u001b[0m   \u001b[0;32mif\u001b[0m \u001b[0mlen\u001b[0m\u001b[0;34m(\u001b[0m\u001b[0mi\u001b[0m\u001b[0;34m)\u001b[0m\u001b[0;34m>\u001b[0m\u001b[0mmax_len1\u001b[0m\u001b[0;34m:\u001b[0m\u001b[0;34m\u001b[0m\u001b[0;34m\u001b[0m\u001b[0m\n\u001b[1;32m      4\u001b[0m     \u001b[0mmax_len1\u001b[0m \u001b[0;34m=\u001b[0m \u001b[0mlen\u001b[0m\u001b[0;34m(\u001b[0m\u001b[0mi\u001b[0m\u001b[0;34m)\u001b[0m\u001b[0;34m\u001b[0m\u001b[0;34m\u001b[0m\u001b[0m\n\u001b[1;32m      5\u001b[0m     \u001b[0mresult\u001b[0m \u001b[0;34m=\u001b[0m \u001b[0mi\u001b[0m\u001b[0;34m\u001b[0m\u001b[0;34m\u001b[0m\u001b[0m\n",
            "\u001b[0;31mTypeError\u001b[0m: 'int' object is not callable"
          ]
        }
      ]
    },
    {
      "cell_type": "code",
      "source": [
        "max_len1 = 0\n",
        "result1 =''\n",
        "for i in string_example:\n",
        "  print(i,len(i))\n",
        "  if len(i)> max_len1:\n",
        "    max_len1 = len(i)\n",
        "    result = i\n",
        "print(f\"OUTPUT:max_len:{max_len1}, name:{result}\")"
      ],
      "metadata": {
        "colab": {
          "base_uri": "https://localhost:8080/"
        },
        "id": "Kscz7AsDHlZt",
        "outputId": "26217058-e12b-4ec3-b09f-f81417b1d41f"
      },
      "execution_count": null,
      "outputs": [
        {
          "output_type": "stream",
          "name": "stdout",
          "text": [
            "bhaveen 7\n",
            "abhishek 8\n",
            "dew 3\n",
            "chalie 6\n",
            "Doctor 6\n",
            "OUTPUT:max_len:8, name:abhishek\n"
          ]
        }
      ]
    },
    {
      "cell_type": "code",
      "source": [
        "A = [1, 34, 56, 76, 99]\n",
        "for i in range(len(A)):\n",
        "  print(i,A[i])\n",
        "  if A[i] % 2 == 0:\n",
        "    print(f\" even number: {A[i]}\")\n",
        "  else:\n",
        "    print(f\" odd number: {A[i]}\")  "
      ],
      "metadata": {
        "colab": {
          "base_uri": "https://localhost:8080/"
        },
        "id": "ccRfs_MOWGE4",
        "outputId": "707daf4f-c64e-4ca1-8d4a-151b454dd678"
      },
      "execution_count": null,
      "outputs": [
        {
          "output_type": "stream",
          "name": "stdout",
          "text": [
            "0 1\n",
            " odd number: 1\n",
            "1 34\n",
            " even number: 34\n",
            "2 56\n",
            " even number: 56\n",
            "3 76\n",
            " even number: 76\n",
            "4 99\n",
            " odd number: 99\n"
          ]
        }
      ]
    },
    {
      "cell_type": "code",
      "source": [
        "A = [1,45, 67, 98, -34]\n",
        "A[::-1]"
      ],
      "metadata": {
        "colab": {
          "base_uri": "https://localhost:8080/"
        },
        "id": "I2cpCNDBX-wI",
        "outputId": "7341b09e-f4cf-4fa7-b7b8-8f7a910f226b"
      },
      "execution_count": null,
      "outputs": [
        {
          "output_type": "execute_result",
          "data": {
            "text/plain": [
              "[-34, 98, 67, 45, 1]"
            ]
          },
          "metadata": {},
          "execution_count": 45
        }
      ]
    },
    {
      "cell_type": "code",
      "source": [
        "A.sort(reverse=True)"
      ],
      "metadata": {
        "id": "Tl7s1GGhZi6j"
      },
      "execution_count": null,
      "outputs": []
    },
    {
      "cell_type": "code",
      "source": [
        "A"
      ],
      "metadata": {
        "colab": {
          "base_uri": "https://localhost:8080/"
        },
        "id": "LdL9eUtXZr1Q",
        "outputId": "4abf0157-c442-45d2-c334-3987960992d0"
      },
      "execution_count": null,
      "outputs": [
        {
          "output_type": "execute_result",
          "data": {
            "text/plain": [
              "[98, 67, 45, 1, -34]"
            ]
          },
          "metadata": {},
          "execution_count": 47
        }
      ]
    },
    {
      "cell_type": "code",
      "source": [
        "# Nested for loop without list comprehention\n",
        "matrix = []\n",
        "for i in range(3):\n",
        "  matrix.append([])\n",
        "  for j in range(3):\n",
        "    matrix[i].append(j)\n",
        "matrix    \n"
      ],
      "metadata": {
        "colab": {
          "base_uri": "https://localhost:8080/"
        },
        "id": "G4qUHGncZuB0",
        "outputId": "8d50bfd8-bf70-42ed-cf64-41580ebf80ec"
      },
      "execution_count": null,
      "outputs": [
        {
          "output_type": "execute_result",
          "data": {
            "text/plain": [
              "[[0, 1, 2], [0, 1, 2], [0, 1, 2]]"
            ]
          },
          "metadata": {},
          "execution_count": 48
        }
      ]
    },
    {
      "cell_type": "code",
      "source": [
        "matrix = []\n",
        "for i in range(3):\n",
        "  matrix.append([])\n",
        "  for j in range(3):\n",
        "    matrix[i].append(j)"
      ],
      "metadata": {
        "id": "pkM1JllHUy2j"
      },
      "execution_count": null,
      "outputs": []
    },
    {
      "cell_type": "code",
      "source": [
        "matrix"
      ],
      "metadata": {
        "colab": {
          "base_uri": "https://localhost:8080/"
        },
        "id": "rMiJhOCAU96R",
        "outputId": "be4c7a52-4568-4075-870c-6980dd4231d1"
      },
      "execution_count": null,
      "outputs": [
        {
          "output_type": "execute_result",
          "data": {
            "text/plain": [
              "[[0, 1, 2], [0, 1, 2], [0, 1, 2]]"
            ]
          },
          "metadata": {},
          "execution_count": 3
        }
      ]
    },
    {
      "cell_type": "code",
      "source": [
        "# difference between two sets\n",
        "x = {\"ineuron\", \"DS\", \"Bigdata\"}\n",
        "y = {\"bigdata\", \"Apache\", \"pyspark\"}\n",
        "print(x.difference(y))\n",
        "print(y.difference(x))"
      ],
      "metadata": {
        "colab": {
          "base_uri": "https://localhost:8080/"
        },
        "id": "Ec_HExCfVXbr",
        "outputId": "bb3587df-35ad-4b8e-8ab0-1ba6facb0251"
      },
      "execution_count": null,
      "outputs": [
        {
          "output_type": "stream",
          "name": "stdout",
          "text": [
            "{'ineuron', 'DS', 'Bigdata'}\n",
            "{'Apache', 'bigdata', 'pyspark'}\n"
          ]
        }
      ]
    },
    {
      "cell_type": "code",
      "source": [
        "# dict.fromkeys(keys,values)\n",
        "d = {}\n",
        "keys = ('name','school','weather')\n",
        "values = \"good\"\n",
        "d = d.fromkeys(keys,values)"
      ],
      "metadata": {
        "id": "ei8WkAWEBUEd"
      },
      "execution_count": null,
      "outputs": []
    },
    {
      "cell_type": "code",
      "source": [
        "d"
      ],
      "metadata": {
        "colab": {
          "base_uri": "https://localhost:8080/"
        },
        "id": "XMIEfbZrDnmQ",
        "outputId": "79ffaa32-3344-43b4-cb09-996ddb47bd54"
      },
      "execution_count": null,
      "outputs": [
        {
          "output_type": "execute_result",
          "data": {
            "text/plain": [
              "{'name': 'good', 'school': 'good', 'weather': 'good'}"
            ]
          },
          "metadata": {},
          "execution_count": 51
        }
      ]
    },
    {
      "cell_type": "code",
      "source": [
        "d.items()"
      ],
      "metadata": {
        "colab": {
          "base_uri": "https://localhost:8080/"
        },
        "id": "oG7AYINFD_4-",
        "outputId": "07e5b3c4-1364-4bb1-e70e-7f250f34b73a"
      },
      "execution_count": null,
      "outputs": [
        {
          "output_type": "execute_result",
          "data": {
            "text/plain": [
              "dict_items([('name', 'good'), ('school', 'good'), ('weather', 'good')])"
            ]
          },
          "metadata": {},
          "execution_count": 53
        }
      ]
    },
    {
      "cell_type": "markdown",
      "source": [
        "# **1.Dictionary Comprehensions**"
      ],
      "metadata": {
        "id": "bt2J8Zd-EyN-"
      }
    },
    {
      "cell_type": "code",
      "source": [
        "{x:x**2 for x in range(10)}"
      ],
      "metadata": {
        "colab": {
          "base_uri": "https://localhost:8080/"
        },
        "id": "__MAeDr2E50F",
        "outputId": "6fd2f25b-0453-4fa3-81d2-e3a7bb0dd8bc"
      },
      "execution_count": null,
      "outputs": [
        {
          "output_type": "execute_result",
          "data": {
            "text/plain": [
              "{0: 0, 1: 1, 2: 4, 3: 9, 4: 16, 5: 25, 6: 36, 7: 49, 8: 64, 9: 81}"
            ]
          },
          "metadata": {},
          "execution_count": 54
        }
      ]
    },
    {
      "cell_type": "code",
      "source": [
        "country_code = {\n",
        "    \"India\": \"IN\",\n",
        "    \"Canada\": \"CA\",\n",
        "    \"Chile\": \"CL\",\n",
        "    \"Fiji\": \"FJ\",\n",
        "    \"United states\": \"US\"\n",
        "}\n",
        "\"India\" in country_code"
      ],
      "metadata": {
        "colab": {
          "base_uri": "https://localhost:8080/"
        },
        "id": "C6szS98UFLPS",
        "outputId": "17a52def-7add-4466-9d56-42ae85759c65"
      },
      "execution_count": 64,
      "outputs": [
        {
          "output_type": "execute_result",
          "data": {
            "text/plain": [
              "True"
            ]
          },
          "metadata": {},
          "execution_count": 64
        }
      ]
    },
    {
      "cell_type": "code",
      "source": [
        "for countries in country_code:\n",
        "  if (len(countries) >= 4 and len(countries) < 6):\n",
        "    print(f\"length of :{countries}, greater than and is equal to four but less than six\")\n",
        "  else:\n",
        "    print(f\"length of contries:{countries}, less than four\")  "
      ],
      "metadata": {
        "colab": {
          "base_uri": "https://localhost:8080/",
          "height": 235
        },
        "id": "mBSFKLAWF5Yy",
        "outputId": "87223375-b15d-478a-9e4a-00fab8811302"
      },
      "execution_count": 65,
      "outputs": [
        {
          "output_type": "error",
          "ename": "TypeError",
          "evalue": "ignored",
          "traceback": [
            "\u001b[0;31m---------------------------------------------------------------------------\u001b[0m",
            "\u001b[0;31mTypeError\u001b[0m                                 Traceback (most recent call last)",
            "\u001b[0;32m<ipython-input-65-111f8aaf2f97>\u001b[0m in \u001b[0;36m<module>\u001b[0;34m\u001b[0m\n\u001b[1;32m      1\u001b[0m \u001b[0;32mfor\u001b[0m \u001b[0mcountries\u001b[0m \u001b[0;32min\u001b[0m \u001b[0mcountry_code\u001b[0m\u001b[0;34m:\u001b[0m\u001b[0;34m\u001b[0m\u001b[0;34m\u001b[0m\u001b[0m\n\u001b[0;32m----> 2\u001b[0;31m   \u001b[0;32mif\u001b[0m \u001b[0;34m(\u001b[0m\u001b[0mlen\u001b[0m\u001b[0;34m(\u001b[0m\u001b[0mcountries\u001b[0m\u001b[0;34m)\u001b[0m \u001b[0;34m>=\u001b[0m \u001b[0;36m4\u001b[0m \u001b[0;32mand\u001b[0m \u001b[0mlen\u001b[0m\u001b[0;34m(\u001b[0m\u001b[0mcountries\u001b[0m\u001b[0;34m)\u001b[0m \u001b[0;34m<\u001b[0m \u001b[0;36m6\u001b[0m\u001b[0;34m)\u001b[0m\u001b[0;34m:\u001b[0m\u001b[0;34m\u001b[0m\u001b[0;34m\u001b[0m\u001b[0m\n\u001b[0m\u001b[1;32m      3\u001b[0m     \u001b[0mprint\u001b[0m\u001b[0;34m(\u001b[0m\u001b[0;34mf\"length of :{countries}, greater than and is equal to four but less than six\"\u001b[0m\u001b[0;34m)\u001b[0m\u001b[0;34m\u001b[0m\u001b[0;34m\u001b[0m\u001b[0m\n\u001b[1;32m      4\u001b[0m   \u001b[0;32melse\u001b[0m\u001b[0;34m:\u001b[0m\u001b[0;34m\u001b[0m\u001b[0;34m\u001b[0m\u001b[0m\n\u001b[1;32m      5\u001b[0m     \u001b[0mprint\u001b[0m\u001b[0;34m(\u001b[0m\u001b[0;34mf\"length of contries:{countries}, less than four\"\u001b[0m\u001b[0;34m)\u001b[0m\u001b[0;34m\u001b[0m\u001b[0;34m\u001b[0m\u001b[0m\n",
            "\u001b[0;31mTypeError\u001b[0m: 'int' object is not callable"
          ]
        }
      ]
    },
    {
      "cell_type": "code",
      "source": [
        "for countries in country_code:\n",
        "    if len(countries) > 4:\n",
        "        print(\"length of \",countries,\" is greater than three.\" )\n",
        "    elif (len(countries) >= 4 and len(countries) < 6):\n",
        "        print(\"length of \",countries,\" is less than six but greater than three.\" )\n",
        "    else:\n",
        "        print(\"length of \",countries,\" is less than three.\" )"
      ],
      "metadata": {
        "colab": {
          "base_uri": "https://localhost:8080/",
          "height": 235
        },
        "id": "PH3g7IwsHXZ9",
        "outputId": "f1864f60-8b52-4399-9451-a70d360079f2"
      },
      "execution_count": 66,
      "outputs": [
        {
          "output_type": "error",
          "ename": "TypeError",
          "evalue": "ignored",
          "traceback": [
            "\u001b[0;31m---------------------------------------------------------------------------\u001b[0m",
            "\u001b[0;31mTypeError\u001b[0m                                 Traceback (most recent call last)",
            "\u001b[0;32m<ipython-input-66-7c33b107267e>\u001b[0m in \u001b[0;36m<module>\u001b[0;34m\u001b[0m\n\u001b[1;32m      1\u001b[0m \u001b[0;32mfor\u001b[0m \u001b[0mcountries\u001b[0m \u001b[0;32min\u001b[0m \u001b[0mcountry_code\u001b[0m\u001b[0;34m:\u001b[0m\u001b[0;34m\u001b[0m\u001b[0;34m\u001b[0m\u001b[0m\n\u001b[0;32m----> 2\u001b[0;31m     \u001b[0;32mif\u001b[0m \u001b[0mlen\u001b[0m\u001b[0;34m(\u001b[0m\u001b[0mcountries\u001b[0m\u001b[0;34m)\u001b[0m \u001b[0;34m>\u001b[0m \u001b[0;36m4\u001b[0m\u001b[0;34m:\u001b[0m\u001b[0;34m\u001b[0m\u001b[0;34m\u001b[0m\u001b[0m\n\u001b[0m\u001b[1;32m      3\u001b[0m         \u001b[0mprint\u001b[0m\u001b[0;34m(\u001b[0m\u001b[0;34m\"length of \"\u001b[0m\u001b[0;34m,\u001b[0m\u001b[0mcountries\u001b[0m\u001b[0;34m,\u001b[0m\u001b[0;34m\" is greater than three.\"\u001b[0m \u001b[0;34m)\u001b[0m\u001b[0;34m\u001b[0m\u001b[0;34m\u001b[0m\u001b[0m\n\u001b[1;32m      4\u001b[0m     \u001b[0;32melif\u001b[0m \u001b[0;34m(\u001b[0m\u001b[0mlen\u001b[0m\u001b[0;34m(\u001b[0m\u001b[0mcountries\u001b[0m\u001b[0;34m)\u001b[0m \u001b[0;34m>=\u001b[0m \u001b[0;36m4\u001b[0m \u001b[0;32mand\u001b[0m \u001b[0mlen\u001b[0m\u001b[0;34m(\u001b[0m\u001b[0mcountries\u001b[0m\u001b[0;34m)\u001b[0m \u001b[0;34m<\u001b[0m \u001b[0;36m6\u001b[0m\u001b[0;34m)\u001b[0m\u001b[0;34m:\u001b[0m\u001b[0;34m\u001b[0m\u001b[0;34m\u001b[0m\u001b[0m\n\u001b[1;32m      5\u001b[0m         \u001b[0mprint\u001b[0m\u001b[0;34m(\u001b[0m\u001b[0;34m\"length of \"\u001b[0m\u001b[0;34m,\u001b[0m\u001b[0mcountries\u001b[0m\u001b[0;34m,\u001b[0m\u001b[0;34m\" is less than six but greater than three.\"\u001b[0m \u001b[0;34m)\u001b[0m\u001b[0;34m\u001b[0m\u001b[0;34m\u001b[0m\u001b[0m\n",
            "\u001b[0;31mTypeError\u001b[0m: 'int' object is not callable"
          ]
        }
      ]
    },
    {
      "cell_type": "code",
      "source": [],
      "metadata": {
        "id": "cgM66fhqIzw4"
      },
      "execution_count": null,
      "outputs": []
    }
  ]
}