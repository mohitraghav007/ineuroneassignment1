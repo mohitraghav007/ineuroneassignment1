{
  "nbformat": 4,
  "nbformat_minor": 0,
  "metadata": {
    "colab": {
      "provenance": [],
      "toc_visible": true,
      "authorship_tag": "ABX9TyP3fKvN/vvknDpLx8WzETM/",
      "include_colab_link": true
    },
    "kernelspec": {
      "name": "python3",
      "display_name": "Python 3"
    },
    "language_info": {
      "name": "python"
    }
  },
  "cells": [
    {
      "cell_type": "markdown",
      "metadata": {
        "id": "view-in-github",
        "colab_type": "text"
      },
      "source": [
        "<a href=\"https://colab.research.google.com/github/mohitraghav007/ineuroneassignment1/blob/main/assignment3.ipynb\" target=\"_parent\"><img src=\"https://colab.research.google.com/assets/colab-badge.svg\" alt=\"Open In Colab\"/></a>"
      ]
    },
    {
      "cell_type": "markdown",
      "source": [
        "# Q1. Find the largest number from the given list, use for loop.\n",
        "\n",
        "\n"
      ],
      "metadata": {
        "id": "71vq5iNx540l"
      }
    },
    {
      "cell_type": "code",
      "source": [
        "numbers = [12, 75, 150, 180, 145, 525, 50]\n",
        "for number in numbers:\n",
        "  if number > largest_number:\n",
        "    largest_number = number\n",
        "print(largest_number)  \n"
      ],
      "metadata": {
        "colab": {
          "base_uri": "https://localhost:8080/"
        },
        "id": "GizgrCD-6RS_",
        "outputId": "2d5e7b92-d36a-4c30-91f8-129635eac349"
      },
      "execution_count": null,
      "outputs": [
        {
          "output_type": "stream",
          "name": "stdout",
          "text": [
            "525\n"
          ]
        }
      ]
    },
    {
      "cell_type": "markdown",
      "source": [
        "# Q2. Print all the even number between (1, 12).\n",
        "\n"
      ],
      "metadata": {
        "id": "9-ldHsO6Zmsw"
      }
    },
    {
      "cell_type": "code",
      "source": [
        "list_number = [1,2,3,4,5,6,7,8,9,10,11,12]\n",
        "for number in list_number:\n",
        "  if number % 2  == 0:\n",
        "     print(f\"even number is:{number}\") \n",
        "     \n",
        "     \n",
        "   \n",
        "    "
      ],
      "metadata": {
        "colab": {
          "base_uri": "https://localhost:8080/"
        },
        "id": "RAvxR0NuZsXl",
        "outputId": "07d69b18-da77-4de0-9938-a19146041cc6"
      },
      "execution_count": null,
      "outputs": [
        {
          "output_type": "stream",
          "name": "stdout",
          "text": [
            "even number is:2\n",
            "even number is:4\n",
            "even number is:6\n",
            "even number is:8\n",
            "even number is:10\n",
            "even number is:12\n"
          ]
        }
      ]
    },
    {
      "cell_type": "markdown",
      "source": [
        "# Q3. Calculate the sum of all numbers from 1 to a given number"
      ],
      "metadata": {
        "id": "drSaHRGQtZft"
      }
    },
    {
      "cell_type": "markdown",
      "source": [
        "Expected Output:\n",
        "\n",
        "Enter number 10\n",
        "\n",
        "Sum is:  55"
      ],
      "metadata": {
        "id": "OWc_gvkMtnmW"
      }
    },
    {
      "cell_type": "code",
      "source": [
        "number = int(input(f\" input number is: \"))\n",
        "a = 45\n",
        "sum = a + number\n",
        "print(f\" sum is: {sum}\")"
      ],
      "metadata": {
        "colab": {
          "base_uri": "https://localhost:8080/"
        },
        "id": "81T-WYYmbviL",
        "outputId": "8b2e98fd-8c5f-4810-dd46-2d2a91ed3d8a"
      },
      "execution_count": null,
      "outputs": [
        {
          "output_type": "stream",
          "name": "stdout",
          "text": [
            " input number is: 10\n",
            " sum is: 55\n"
          ]
        }
      ]
    },
    {
      "cell_type": "markdown",
      "source": [
        "# Q4.  Write a program to display only those numbers from a list that satisfy the following conditions\n",
        "\n",
        "The number must be divisible by five\n",
        "\n",
        "If the number is greater than 150, then skip it and move to the next number\n",
        "\n",
        "If the number is greater than 500, then stop the loop"
      ],
      "metadata": {
        "id": "FgePvir_yI5O"
      }
    },
    {
      "cell_type": "markdown",
      "source": [
        "# Given:\n",
        "\n",
        "numbers = [12, 75, 150, 180, 145, 525, 50]\n"
      ],
      "metadata": {
        "id": "vkGkzx-by6rK"
      }
    },
    {
      "cell_type": "code",
      "source": [
        "list = [12, 75, 150, 180, 145, 525, 50]\n",
        "for number in list:\n",
        "  if number % 5 == 0:\n",
        "    if number > 150:\n",
        "      if number > 500:\n",
        "         break\n",
        "print(f\" number is:{number} \")    \n",
        "\n"
      ],
      "metadata": {
        "colab": {
          "base_uri": "https://localhost:8080/"
        },
        "id": "oLkKQLp4y-6p",
        "outputId": "96d03d28-e3b1-490c-af49-6f5267d62714"
      },
      "execution_count": null,
      "outputs": [
        {
          "output_type": "stream",
          "name": "stdout",
          "text": [
            " number is:525 \n"
          ]
        }
      ]
    },
    {
      "cell_type": "markdown",
      "source": [
        "# Q5. Print the given list in reverse order.\n",
        "list1 = [10, 20, 30, 40, 50]"
      ],
      "metadata": {
        "id": "QYPaTkaI_tgD"
      }
    },
    {
      "cell_type": "code",
      "source": [
        "list1 = [10, 20, 30, 40, 50]\n",
        "list1[::-1]"
      ],
      "metadata": {
        "colab": {
          "base_uri": "https://localhost:8080/"
        },
        "id": "2esF-kVF_0Tq",
        "outputId": "3c506786-2511-4942-a007-c8bbd03dd221"
      },
      "execution_count": null,
      "outputs": [
        {
          "output_type": "execute_result",
          "data": {
            "text/plain": [
              "[50, 40, 30, 20, 10]"
            ]
          },
          "metadata": {},
          "execution_count": 43
        }
      ]
    },
    {
      "cell_type": "code",
      "source": [],
      "metadata": {
        "id": "THXYITp1AMUs"
      },
      "execution_count": null,
      "outputs": []
    }
  ]
}