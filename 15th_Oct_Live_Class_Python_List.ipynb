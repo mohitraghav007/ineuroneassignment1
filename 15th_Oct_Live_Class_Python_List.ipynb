{
  "nbformat": 4,
  "nbformat_minor": 0,
  "metadata": {
    "colab": {
      "provenance": [],
      "toc_visible": true,
      "authorship_tag": "ABX9TyOkD/9T891lEDeGDa9ChGsq",
      "include_colab_link": true
    },
    "kernelspec": {
      "name": "python3",
      "display_name": "Python 3"
    },
    "language_info": {
      "name": "python"
    }
  },
  "cells": [
    {
      "cell_type": "markdown",
      "metadata": {
        "id": "view-in-github",
        "colab_type": "text"
      },
      "source": [
        "<a href=\"https://colab.research.google.com/github/mohitraghav007/ineuroneassignment1/blob/main/15th_Oct_Live_Class_Python_List.ipynb\" target=\"_parent\"><img src=\"https://colab.research.google.com/assets/colab-badge.svg\" alt=\"Open In Colab\"/></a>"
      ]
    },
    {
      "cell_type": "code",
      "execution_count": null,
      "metadata": {
        "colab": {
          "base_uri": "https://localhost:8080/"
        },
        "id": "LtNXXH4sZzvE",
        "outputId": "2bfb145d-862d-4da4-a1d9-e938ebbd67ba"
      },
      "outputs": [
        {
          "output_type": "stream",
          "name": "stdout",
          "text": [
            "12\n",
            "3\n",
            "4\n",
            "5\n",
            "2.3\n",
            "56.9\n",
            "mohit\n",
            "raghav\n"
          ]
        }
      ],
      "source": [
        "A = [12,3,4,5,2.3,56.9,\"mohit\",\"raghav\"]\n",
        "for element in A:\n",
        "  print( element)"
      ]
    },
    {
      "cell_type": "code",
      "source": [
        "A = [12,3,4,5,2.3,56.9,\"mohit\",\"raghav\"]\n",
        "for i in range(len(A)):\n",
        "  print(A[i])"
      ],
      "metadata": {
        "colab": {
          "base_uri": "https://localhost:8080/"
        },
        "id": "Vggnwpu7ekmI",
        "outputId": "05743601-eb88-4090-ca7c-e58b29faa246"
      },
      "execution_count": null,
      "outputs": [
        {
          "output_type": "stream",
          "name": "stdout",
          "text": [
            "12\n",
            "3\n",
            "4\n",
            "5\n",
            "2.3\n",
            "56.9\n",
            "mohit\n",
            "raghav\n"
          ]
        }
      ]
    },
    {
      "cell_type": "code",
      "source": [
        "for i in range(len(A)):\n",
        "  print(f\"value={A[i]}, datatype = {type(A[i])}\")\n"
      ],
      "metadata": {
        "colab": {
          "base_uri": "https://localhost:8080/"
        },
        "id": "GyHRj-dIfJa3",
        "outputId": "be906f69-5ce4-41fb-9e2a-00267ae26a47"
      },
      "execution_count": null,
      "outputs": [
        {
          "output_type": "stream",
          "name": "stdout",
          "text": [
            "value=12, datatype = <class 'int'>\n",
            "value=3, datatype = <class 'int'>\n",
            "value=4, datatype = <class 'int'>\n",
            "value=5, datatype = <class 'int'>\n",
            "value=2.3, datatype = <class 'float'>\n",
            "value=56.9, datatype = <class 'float'>\n",
            "value=mohit, datatype = <class 'str'>\n",
            "value=raghav, datatype = <class 'str'>\n"
          ]
        }
      ]
    },
    {
      "cell_type": "code",
      "source": [
        "list_of_item_to_purchase = list()\n",
        "for i in range(10):\n",
        "  user_input = input(\"enter the item that you want to purchase: \")\n",
        "  list_of_item_to_purchase = list_of_item_to_purchase + [user_input]\n",
        "print(list_of_item_to_purchase)"
      ],
      "metadata": {
        "colab": {
          "base_uri": "https://localhost:8080/"
        },
        "id": "wGLhsbjDgaxk",
        "outputId": "9ca900ad-c718-4eda-a8bd-c77b184e9065"
      },
      "execution_count": null,
      "outputs": [
        {
          "output_type": "stream",
          "name": "stdout",
          "text": [
            "enter the item that you want to purchase: pen\n",
            "enter the item that you want to purchase: bulb\n",
            "enter the item that you want to purchase: hockey\n",
            "enter the item that you want to purchase: bat\n",
            "enter the item that you want to purchase: ball\n",
            "enter the item that you want to purchase: cricket kit\n",
            "enter the item that you want to purchase: nudels\n",
            "enter the item that you want to purchase: kjdbbfdjb\n",
            "enter the item that you want to purchase: jfnijebf\n",
            "enter the item that you want to purchase: somethikng \n",
            "['pen', 'bulb', 'hockey', 'bat', 'ball', 'cricket kit', 'nudels', 'kjdbbfdjb', 'jfnijebf', 'somethikng ']\n"
          ]
        }
      ]
    },
    {
      "cell_type": "code",
      "source": [
        "item_to_purchase = list()\n",
        "N = int(input(\" no of item you want to purchase: \"))\n",
        "i = 0\n",
        "while i < N:\n",
        "    user_input = input(\"no of item you want to purchase: \")\n",
        "    item_to_purchase  = item_to_purchase + [user_input]\n",
        "    print(f\" current list: {item_to_purchase}\")\n",
        "    i = i + 1\n",
        "print(item_to_purchase)  \n",
        "  \n"
      ],
      "metadata": {
        "colab": {
          "base_uri": "https://localhost:8080/"
        },
        "id": "ucH2p8YBzzO3",
        "outputId": "38983657-c876-4f9a-b514-3c70d4c0d264"
      },
      "execution_count": null,
      "outputs": [
        {
          "output_type": "stream",
          "name": "stdout",
          "text": [
            " no of item you want to purchase: 6\n",
            "no of item you want to purchase: pen\n",
            " current list: ['pen']\n",
            "no of item you want to purchase: ball\n",
            " current list: ['pen', 'ball']\n",
            "no of item you want to purchase: bat \n",
            " current list: ['pen', 'ball', 'bat ']\n",
            "no of item you want to purchase: cat \n",
            " current list: ['pen', 'ball', 'bat ', 'cat ']\n",
            "no of item you want to purchase: og\n",
            " current list: ['pen', 'ball', 'bat ', 'cat ', 'og']\n",
            "no of item you want to purchase: house\n",
            " current list: ['pen', 'ball', 'bat ', 'cat ', 'og', 'house']\n",
            "['pen', 'ball', 'bat ', 'cat ', 'og', 'house']\n"
          ]
        }
      ]
    },
    {
      "cell_type": "code",
      "source": [
        "string_example = [\"Mohit\",\"Raghav\",\"sumit\",\"sharma\"]\n",
        "max_len = 0\n",
        "result = \"\"\n",
        "for example in string_example:\n",
        "  print(example,len(example))\n",
        "  if len(example) > max_len:\n",
        "    max_len = len(example)\n",
        "    rsult = example\n",
        "print(f\"result:max_len:{max_len} name:{result}\")    "
      ],
      "metadata": {
        "colab": {
          "base_uri": "https://localhost:8080/"
        },
        "id": "uIEq4klz4bdo",
        "outputId": "686bc428-7248-4750-addf-335ff0dfb325"
      },
      "execution_count": null,
      "outputs": [
        {
          "output_type": "stream",
          "name": "stdout",
          "text": [
            "Mohit 5\n",
            "Raghav 6\n",
            "sumit 5\n",
            "sharma 6\n",
            "result:max_len:6 name:\n"
          ]
        }
      ]
    },
    {
      "cell_type": "markdown",
      "source": [
        "# even no. and odd no.\n",
        "\n",
        "\n"
      ],
      "metadata": {
        "id": "HMcs4BrLQjdW"
      }
    },
    {
      "cell_type": "code",
      "source": [
        "A = [1,34,56,76,99]\n",
        "for idx in range(len(A)):\n",
        "  number = A[idx]\n",
        "  print(idx,number)\n",
        "  if number % 2 != 0:\n",
        "    print(f'odd num:{number}')\n",
        "  else:\n",
        "    print(f\"even num:{number}\")  "
      ],
      "metadata": {
        "colab": {
          "base_uri": "https://localhost:8080/"
        },
        "id": "fKFCGG_yQwE6",
        "outputId": "e64f991b-1760-458d-b504-6bf3f56ecbf5"
      },
      "execution_count": null,
      "outputs": [
        {
          "output_type": "stream",
          "name": "stdout",
          "text": [
            "0 1\n",
            "odd num:1\n",
            "1 34\n",
            "even num:34\n",
            "2 56\n",
            "even num:56\n",
            "3 76\n",
            "even num:76\n",
            "4 99\n",
            "odd num:99\n"
          ]
        }
      ]
    },
    {
      "cell_type": "code",
      "source": [],
      "metadata": {
        "id": "d_MjHQuXSnOm"
      },
      "execution_count": null,
      "outputs": []
    }
  ]
}